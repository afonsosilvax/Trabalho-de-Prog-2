{
 "cells": [
  {
   "cell_type": "code",
   "execution_count": null,
   "metadata": {
    "collapsed": true
   },
   "outputs": [],
   "source": [
    "from seven_dwwarfs import Grumpy, Happy, Sleepy, Bashful, Sneezy, Dopey, Doc\n",
    "\n",
    "x = {\"a\": 37, \"b\": 42, \"c\": 927}\n",
    "\n",
    "x = 123456789.123456789e123456789\n",
    "\n",
    "if this and that:\n",
    "    y = \"hello \" \"world\"  # FIXME: https://github.com/psf/black/issues/26\n",
    "\n",
    "\n",
    "class Foo(object):\n",
    "    def f(self):\n",
    "        return 37 * -2\n",
    "\n",
    "    def g(self, x, y=42):\n",
    "        return y\n",
    "\n",
    "\n",
    "def f(a: List[int]):\n",
    "    return 37 - a[42 - u : y**3]\n",
    "\n",
    "\n",
    "def very_important_function(\n",
    "    template: str,\n",
    "    *variables,\n",
    "    file: os.PathLike,\n",
    "    debug: bool = False,\n",
    "):\n",
    "    \"\"\"Applies `variables` to the `template` and writes to `file`.\"\"\"\n",
    "    with open(file, \"w\") as f:\n",
    "        ...\n",
    "\n",
    "\n",
    "# fmt: off\n",
    "custom_formatting = [\n",
    "    0,  1,  2,\n",
    "    3,  4,  5,\n",
    "    6,  7,  8,\n",
    "]\n",
    "# fmt: on\n",
    "regular_formatting = [\n",
    "    0,\n",
    "    1,\n",
    "    2,\n",
    "    3,\n",
    "    4,\n",
    "    5,\n",
    "    6,\n",
    "    7,\n",
    "    8,\n",
    "]"
   ]
  }
 ],
 "metadata": {
  "kernelspec": {
   "display_name": "Python 3",
   "language": "python",
   "name": "python3"
  },
  "language_info": {
   "codemirror_mode": {
    "name": "ipython",
    "version": 2
   },
   "file_extension": ".py",
   "mimetype": "text/x-python",
   "name": "python",
   "nbconvert_exporter": "python",
   "pygments_lexer": "ipython2",
   "version": "2.7.6"
  }
 },
 "nbformat": 4,
 "nbformat_minor": 0
}